{
 "cells": [
  {
   "cell_type": "code",
   "execution_count": 29,
   "metadata": {},
   "outputs": [],
   "source": [
    "def cek_huruf(cekHuruf):\n",
    "    a = cekHuruf\n",
    "    helloAja = 0\n",
    "    for j in a :\n",
    "        helloAja+=1\n",
    "    print(\"Total Huruf di Dalam text tersebut adalah : \", helloAja)"
   ]
  },
  {
   "cell_type": "code",
   "execution_count": 30,
   "metadata": {},
   "outputs": [],
   "source": [
    "def cek_huruf_capital(cekKapital):\n",
    "    b = cekKapital\n",
    "    countCapital = 0\n",
    "    for j in b:\n",
    "        if j.isupper():\n",
    "            countCapital+=1\n",
    "    print('Total huruf capital dalam text adalah : ', countCapital)\n"
   ]
  },
  {
   "cell_type": "code",
   "execution_count": 31,
   "metadata": {},
   "outputs": [],
   "source": [
    "def cek_kata(cekKata):\n",
    "    c = cekKata.split()\n",
    "    print('total  kata dalam kalimat di atas adalah : ',len(c))"
   ]
  },
  {
   "cell_type": "code",
   "execution_count": 32,
   "metadata": {},
   "outputs": [
    {
     "name": "stdout",
     "output_type": "stream",
     "text": [
      "Sinopsis Film Bullet Train\n",
      "\n",
      "\n",
      "Sinopsis film Bullet Train menceritakan pembunuh bayaran veteran dengan nama Ladybug yang kerap sial saat menjalankan misinya. Ladybug bertekad untuk melakukan pekerjaannya dengan tenang setelah beberapa kali gagal menjalankan misi.\n",
      "\n",
      "Misi terbaru Ladybug justru menempatkan dirinya di posisi rumit. Ladybug harus berhadapan dengan banyak pembunuh lainnya dalam sebuah kereta cepat Jepang.\n",
      "\n",
      "Suatu hari, Ladybug harus mencuri koper besi berisi uang yang disimpan di dalam salah satu kereta cepat Jepang atau Shinkansen yang berangkat dari Tokyo menuju Kyoto. Ia merasa itu merupakan pekerjaan yang bisa diselesaikan dengan cepat.\n",
      "\n",
      "Namun, pada kenyataannya, Ladybug menghadapi begitu banyak tantangan dan hambatan. Ia harus berhadapan dengan pembunuh bayaran lainnya yang juga mengincar koper tersebut.\n",
      "\n",
      "Hal tersebut kemudian membuat Ladybug menyadari misi yang ia emban tak sederhana. Di balik misi itu ternyata ada kisah lebih dalam dan rumit, tak hanya sekadar mencuri koper besi.\n",
      "--------------------------------------------------\n",
      "total  kata dalam kalimat di atas adalah :  142\n",
      "total huruf dalam text tersebut adalah :  1009\n",
      "dengan huruf kapital berjumlah :  26\n"
     ]
    }
   ],
   "source": [
    "from BULLET_TRAIN import sinopis as Sinop\n",
    "from cek_huruf import cek_huruf\n",
    "from cek_kapital import cek_jumlah_kapital\n",
    "from cek_kata import cek_kata\n",
    "\n",
    "print(Sinop,end='\\n')\n",
    "\n",
    "line=''\n",
    "for i in range (50):\n",
    "    line+='-'\n",
    "print(line)\n",
    "    \n",
    "\n",
    "cek_kata(Sinop)\n",
    "cek_huruf(Sinop)\n",
    "cek_jumlah_kapital(Sinop)"
   ]
  }
 ],
 "metadata": {
  "kernelspec": {
   "display_name": "Python 3",
   "language": "python",
   "name": "python3"
  },
  "language_info": {
   "codemirror_mode": {
    "name": "ipython",
    "version": 3
   },
   "file_extension": ".py",
   "mimetype": "text/x-python",
   "name": "python",
   "nbconvert_exporter": "python",
   "pygments_lexer": "ipython3",
   "version": "3.11.1 (tags/v3.11.1:a7a450f, Dec  6 2022, 19:58:39) [MSC v.1934 64 bit (AMD64)]"
  },
  "orig_nbformat": 4,
  "vscode": {
   "interpreter": {
    "hash": "bdb715d3f28895bf8d1f1f0337a53a101c9666f588645ae97659721ee0d271c0"
   }
  }
 },
 "nbformat": 4,
 "nbformat_minor": 2
}
